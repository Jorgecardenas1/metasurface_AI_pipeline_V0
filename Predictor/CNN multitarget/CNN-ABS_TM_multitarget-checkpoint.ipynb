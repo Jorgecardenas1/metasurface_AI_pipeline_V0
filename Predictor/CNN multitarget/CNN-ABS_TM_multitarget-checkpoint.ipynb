{
 "cells": [
  {
   "cell_type": "code",
   "execution_count": 1,
   "id": "4baa8720-2b4b-42d4-ad9b-9c850cbeea6b",
   "metadata": {
    "tags": []
   },
   "outputs": [],
   "source": [
    "\n",
    "import sys  \n",
    "sys.path.insert(0, r\"C:\\\\Users\\jorge\\\\Documents\\\\Projects Jorge C\\\\DRUIDA PROJECT\\\\POC\\\\druida_V01\\\\src\\\\\")\n",
    "\n",
    "import os\n",
    "\n",
    "from __future__ import print_function\n",
    "#from Utilities.SaveAnimation import Video\n",
    "\n",
    "\n",
    "\n",
    "from druida import Stack\n",
    "from druida import setup\n",
    "\n",
    "from druida.DataManager import datamanager\n",
    "from druidaHFSS.modules import tools\n",
    "from druida.tools import utils\n",
    "\n",
    "import random\n",
    "import numpy as np\n",
    "import pandas as pd\n",
    "from sklearn.model_selection import train_test_split\n",
    "\n",
    "import torch\n",
    "import torch.nn as nn\n",
    "import torch.optim as optimizer\n",
    "\n",
    "from torchsummary import summary\n",
    "from torch.utils.data import TensorDataset\n",
    "from torch.utils.data import DataLoader\n",
    "\n",
    "import matplotlib.pyplot as plt\n",
    "import matplotlib.animation as animation\n",
    "\n",
    "from IPython.display import HTML\n",
    "\n",
    "import glob\n",
    "from tqdm.notebook import tqdm\n",
    "\n",
    "import argparse\n",
    "\n"
   ]
  },
  {
   "cell_type": "code",
   "execution_count": 2,
   "id": "81271b6e-4895-4900-ac21-3afe6acfedd3",
   "metadata": {
    "tags": []
   },
   "outputs": [
    {
     "data": {
      "text/plain": [
       "<torch._C.Generator at 0x162ec723a30>"
      ]
     },
     "execution_count": 2,
     "metadata": {},
     "output_type": "execute_result"
    }
   ],
   "source": [
    "\n",
    "torch.set_printoptions(profile=\"full\")\n",
    "torch.manual_seed(99)\n",
    "\n"
   ]
  },
  {
   "cell_type": "code",
   "execution_count": 3,
   "id": "30767414-f3be-410c-9ecb-46075ce10cf1",
   "metadata": {
    "tags": []
   },
   "outputs": [],
   "source": [
    "parser = argparse.ArgumentParser()\n",
    "\n",
    "parser.add_argument(\"run_name\",type=str)\n",
    "parser.add_argument(\"epochs\",type=int)\n",
    "parser.add_argument(\"batch_size\",type=int)\n",
    "parser.add_argument(\"workers\",type=int)\n",
    "parser.add_argument(\"gpu_number\",type=int)\n",
    "parser.add_argument(\"device\",type=str)\n",
    "parser.add_argument(\"learning_rate\",type=float)\n",
    "parser.add_argument(\"condition_len\",type=float) #This defines the length of our conditioning vector\n",
    "parser.add_argument(\"metricType\",type=float) #This defines the length of our conditioning vector\n",
    "\n",
    "parser.run_name = \"Predictor Training\"\n",
    "parser.epochs = 15\n",
    "parser.batch_size = 5\n",
    "parser.workers=0\n",
    "parser.gpu_number=0\n",
    "parser.image_size = 512\n",
    "parser.dataset_path = os.path.normpath('/content/drive/MyDrive/Training_Data/Training_lite/')\n",
    "parser.device = \"cpu\"\n",
    "parser.learning_rate = 5e-6\n",
    "parser.condition_len = 10\n",
    "parser.metricType='AbsorbanceTM' #this is to be modified when training for different metrics.\n",
    "\n",
    "categories=[\"box\", \"circle\"]\n",
    "\n"
   ]
  },
  {
   "cell_type": "markdown",
   "id": "dfd27aba-6330-48f0-bc70-e5480645fab1",
   "metadata": {
    "jp-MarkdownHeadingCollapsed": true,
    "tags": []
   },
   "source": [
    "## 1. Preprocessing"
   ]
  },
  {
   "cell_type": "code",
   "execution_count": 5,
   "id": "f3c97f58-1dd0-413d-8878-ca0d0a6ebb0c",
   "metadata": {
    "tags": []
   },
   "outputs": [],
   "source": [
    "imagesPath=\"C:\\\\Users\\\\jorge\\\\Dropbox\\\\Public\\\\MetasufacesData\\\\Images\\\\\""
   ]
  },
  {
   "cell_type": "code",
   "execution_count": 9,
   "id": "e40ed4e3-4b8a-4c70-8d07-d5be55b63535",
   "metadata": {
    "tags": []
   },
   "outputs": [
    {
     "name": "stdout",
     "output_type": "stream",
     "text": [
      "['C:\\\\Users\\\\jorge\\\\Dropbox\\\\Public\\\\MetasufacesData\\\\Images\\\\09a2f2c2-ad7f-11ee-bb2a-047c16a08772\\\\', 'C:\\\\Users\\\\jorge\\\\Dropbox\\\\Public\\\\MetasufacesData\\\\Images\\\\0ed3a0e8-a653-11ee-9db6-047c16a08772\\\\', 'C:\\\\Users\\\\jorge\\\\Dropbox\\\\Public\\\\MetasufacesData\\\\Images\\\\3be7fd33-bd16-11ee-be43-047c16a08772\\\\', 'C:\\\\Users\\\\jorge\\\\Dropbox\\\\Public\\\\MetasufacesData\\\\Images\\\\55628454-b316-11ee-82a4-047c16a08772\\\\', 'C:\\\\Users\\\\jorge\\\\Dropbox\\\\Public\\\\MetasufacesData\\\\Images\\\\56dee422-b317-11ee-bb58-047c16a08772\\\\', 'C:\\\\Users\\\\jorge\\\\Dropbox\\\\Public\\\\MetasufacesData\\\\Images\\\\7262ded2-a81d-11ee-8e0e-047c16a08772\\\\', 'C:\\\\Users\\\\jorge\\\\Dropbox\\\\Public\\\\MetasufacesData\\\\Images\\\\89962313-bbc8-11ee-a7fe-047c16a08772\\\\', 'C:\\\\Users\\\\jorge\\\\Dropbox\\\\Public\\\\MetasufacesData\\\\Images\\\\a03ae6f6-bc71-11ee-aef0-047c16a08772\\\\', 'C:\\\\Users\\\\jorge\\\\Dropbox\\\\Public\\\\MetasufacesData\\\\Images\\\\b34769e8-bcbb-11ee-bce8-047c16a08772\\\\', 'C:\\\\Users\\\\jorge\\\\Dropbox\\\\Public\\\\MetasufacesData\\\\Images\\\\b6b02fee-a8bb-11ee-8e20-047c16a08772\\\\', 'C:\\\\Users\\\\jorge\\\\Dropbox\\\\Public\\\\MetasufacesData\\\\Images\\\\b7692f2a-b9ff-11ee-8bd2-047c16a08772\\\\', 'C:\\\\Users\\\\jorge\\\\Dropbox\\\\Public\\\\MetasufacesData\\\\Images\\\\c49e201f-ae96-11ee-88f3-047c16a08772\\\\', 'C:\\\\Users\\\\jorge\\\\Dropbox\\\\Public\\\\MetasufacesData\\\\Images\\\\d31e1e9f-a766-11ee-8b8e-047c16a08772\\\\', 'C:\\\\Users\\\\jorge\\\\Dropbox\\\\Public\\\\MetasufacesData\\\\Images\\\\e3744294-aba9-11ee-b4d0-047c16a08772\\\\']\n"
     ]
    }
   ],
   "source": [
    "\n",
    "folders=glob.glob(imagesPath+\"/*/\", recursive = True)\n",
    "files=[]\n",
    "\n",
    "print(folders)\n",
    "for folder in folders:\n",
    "    \n",
    "    if folder != imagesPath+\"\\\\\"+ \"processed\\\\\":\n",
    "        files=(files+glob.glob(folder+\"/*\"))\n",
    "\n"
   ]
  },
  {
   "cell_type": "code",
   "execution_count": 10,
   "id": "61cd9221-451d-45b4-a896-f10278802029",
   "metadata": {
    "tags": []
   },
   "outputs": [
    {
     "name": "stdout",
     "output_type": "stream",
     "text": [
      "The new directory is created!\n"
     ]
    }
   ],
   "source": [
    "\n",
    "for file in files:\n",
    "    fileName_absolute = os.path.basename(file) \n",
    "    path=os.path.dirname(file)\n",
    "\n",
    "    #ROI is \n",
    "    image_rgb=tools.cropImage( file,image_path=path,\n",
    "                              image_name=fileName_absolute,\n",
    "                              output_path=imagesPath, \n",
    "                             resize_dim=(512,512))\n",
    "        \n"
   ]
  },
  {
   "cell_type": "markdown",
   "id": "73520e56-2b92-4458-b376-70379abf3a05",
   "metadata": {
    "tags": []
   },
   "source": [
    "\n",
    "## Load Images\n",
    "<p style=\"font-size: 16px; color: blue;\">Here we create a custom dataset which provides extra information of each image and batch</p>"
   ]
  },
  {
   "cell_type": "code",
   "execution_count": 4,
   "id": "24bf01d2-7df8-4cbf-a546-0cbb0ba45207",
   "metadata": {
    "tags": []
   },
   "outputs": [],
   "source": [
    "boxImagesPath=\"C:\\\\Users\\\\jorge\\\\Dropbox\\\\Public\\\\MetasufacesData\\\\Images Jorge Cardenas 512\\\\\"\n",
    "DataPath=\"C:\\\\Users\\\\jorge\\\\Dropbox\\\\Public\\\\MetasufacesData\\\\Exports\\\\output\\\\\"\n",
    "simulationData=\"C:\\\\Users\\\\jorge\\\\Dropbox\\\\Public\\\\MetasufacesData\\\\DBfiles\\\\\""
   ]
  },
  {
   "cell_type": "code",
   "execution_count": 5,
   "id": "b73f9625-1f11-483e-81ff-b95522783d04",
   "metadata": {
    "tags": []
   },
   "outputs": [],
   "source": [
    "dataloader = utils.get_data_with_labels(512, 512,0.95, boxImagesPath,parser.batch_size, drop_last=True)\n"
   ]
  },
  {
   "cell_type": "code",
   "execution_count": 6,
   "id": "64e35e40-541e-42f1-bc9c-976b96719114",
   "metadata": {
    "tags": []
   },
   "outputs": [
    {
     "name": "stdout",
     "output_type": "stream",
     "text": [
      "('circ', 'box', 'cross', 'box', 'box')\n"
     ]
    }
   ],
   "source": [
    "\n",
    "\n",
    "# Visualizing a sample\n",
    "data,target,path,categories = next(iter(dataloader))\n",
    "print(categories)\n",
    "image = data.detach().cpu().permute(0, 2, 3,1).numpy()\n",
    "images = (image * 255).round().astype(\"uint8\")\n"
   ]
  },
  {
   "cell_type": "code",
   "execution_count": 7,
   "id": "57e0749c-0fec-4da2-ab48-5449ef1dc544",
   "metadata": {
    "tags": []
   },
   "outputs": [
    {
     "data": {
      "text/plain": [
       "<function matplotlib.pyplot.show(close=None, block=None)>"
      ]
     },
     "execution_count": 7,
     "metadata": {},
     "output_type": "execute_result"
    },
    {
     "data": {
      "image/png": "[encoded data removed]",
      "text/plain": [
       "<Figure size 300x300 with 1 Axes>"
      ]
     },
     "metadata": {},
     "output_type": "display_data"
    }
   ],
   "source": [
    "\n",
    "plt.figure(figsize=(3,3))\n",
    "plt.imshow(images[0])\n",
    "plt.show"
   ]
  },
  {
   "cell_type": "code",
   "execution_count": 8,
   "id": "759a23b0-0027-43a2-baae-bfbf9a027e86",
   "metadata": {
    "tags": []
   },
   "outputs": [],
   "source": [
    "trainer = Stack.Trainer(parser)"
   ]
  },
  {
   "cell_type": "code",
   "execution_count": 9,
   "id": "2e10998e-1605-4dd2-8a1c-0a7f6d1597de",
   "metadata": {
    "tags": []
   },
   "outputs": [],
   "source": [
    "def weights_init(m):\n",
    "    classname = m.__class__.__name__\n",
    "    if classname.find('Conv2d') != -1:\n",
    "        nn.init.normal_(m.weight.data, 0.0, 0.02)\n",
    "    elif classname.find('BatchNorm') != -1:\n",
    "        nn.init.normal_(m.weight.data, 1.0, 0.02)\n",
    "        nn.init.constant_(m.bias.data, 0)"
   ]
  },
  {
   "cell_type": "code",
   "execution_count": 10,
   "id": "6c7b6201-762b-40a4-925f-a084011ef2c0",
   "metadata": {
    "tags": []
   },
   "outputs": [
    {
     "data": {
      "text/plain": [
       "torch.Size([1, 5, 10])"
      ]
     },
     "execution_count": 10,
     "metadata": {},
     "output_type": "execute_result"
    }
   ],
   "source": [
    "#Example of a conditioning shape\n",
    "\"\"\"this conditioning must be built during training\"\"\"\n",
    "conditioning=torch.ones(1,parser.batch_size,parser.condition_len)\n",
    "conditioning.shape"
   ]
  },
  {
   "cell_type": "markdown",
   "id": "8baf149b-914d-4694-96e0-00c7f662d62b",
   "metadata": {},
   "source": [
    "## Loading our model"
   ]
  },
  {
   "cell_type": "code",
   "execution_count": 11,
   "id": "da05eb0e-86ef-46c5-b8b7-2f519cfc4eb8",
   "metadata": {
    "tags": []
   },
   "outputs": [
    {
     "data": {
      "text/plain": [
       "Predictor_CNN(\n",
       "  (l1): Linear(in_features=10, out_features=786432, bias=False)\n",
       "  (conv1): Conv2d(6, 8, kernel_size=(6, 6), stride=(2, 2), padding=(4, 4), bias=False)\n",
       "  (conv2): LeakyReLU(negative_slope=0.2, inplace=True)\n",
       "  (conv3): Conv2d(8, 16, kernel_size=(6, 6), stride=(2, 2), padding=(5, 5), bias=False)\n",
       "  (conv4): BatchNorm2d(16, eps=1e-05, momentum=0.1, affine=True, track_running_stats=True)\n",
       "  (conv5): LeakyReLU(negative_slope=0.2, inplace=True)\n",
       "  (conv6): Conv2d(16, 32, kernel_size=(6, 6), stride=(2, 2), padding=(4, 4), bias=False)\n",
       "  (conv7): BatchNorm2d(32, eps=1e-05, momentum=0.1, affine=True, track_running_stats=True)\n",
       "  (conv8): LeakyReLU(negative_slope=0.2, inplace=True)\n",
       "  (conv9): Conv2d(32, 64, kernel_size=(6, 6), stride=(2, 2), padding=(2, 2), bias=False)\n",
       "  (conv10): BatchNorm2d(64, eps=1e-05, momentum=0.1, affine=True, track_running_stats=True)\n",
       "  (conv11): LeakyReLU(negative_slope=0.2, inplace=True)\n",
       "  (conv12): Conv2d(64, 128, kernel_size=(2, 2), stride=(1, 1), bias=False)\n",
       "  (l2): Linear(in_features=139392, out_features=3000, bias=False)\n",
       "  (dropout2): Dropout(p=0.2, inplace=False)\n",
       "  (l4): Linear(in_features=3000, out_features=601, bias=False)\n",
       ")"
      ]
     },
     "execution_count": 11,
     "metadata": {},
     "output_type": "execute_result"
    }
   ],
   "source": [
    "import torch.optim as optimizer\n",
    "\n",
    "fwd_test = Stack.Predictor_CNN(cond_input_size=parser.condition_len, \n",
    "                               ngpu=0, image_size=parser.image_size ,\n",
    "                               output_size=8, channels=3,\n",
    "                               features_num=3000,\n",
    "                               dropout=0.2, \n",
    "                               Y_prediction_size=601) #size of the output vector in this case frenquency points\n",
    "\n",
    "fwd_test.apply(weights_init)\n",
    "\n",
    "\n",
    "\"\"\"using weigth decay regularization\"\"\"\n",
    "opt = optimizer.Adam(fwd_test.parameters(), lr=parser.learning_rate, betas=(0.5, 0.999),weight_decay=1e-4)\n",
    "criterion = nn.CrossEntropyLoss()\n",
    "fwd_test.train()"
   ]
  },
  {
   "cell_type": "markdown",
   "id": "cde542c9-f766-4538-8625-90c2c6fb8c4c",
   "metadata": {},
   "source": [
    "## Join simulation data\n",
    "<p style=\"font-size: 16px; color: blue;\">We need to have access to other additional simulation data which could be helpful to build our conditioning.</p>\n"
   ]
  },
  {
   "cell_type": "code",
   "execution_count": 12,
   "id": "3cda5e1a-7844-4fe6-a78b-c3d81178c7c5",
   "metadata": {},
   "outputs": [],
   "source": [
    "def join_simulationData():\n",
    "    df = pd.DataFrame()\n",
    "\n",
    "    for file in glob.glob(simulationData+\"*.csv\"): \n",
    "        df2 = pd.read_csv(file)\n",
    "        df = pd.concat([df, df2], ignore_index=True)\n",
    "    \n",
    "    df.to_csv('out.csv',index=False)\n",
    "    \n",
    "join_simulationData()   "
   ]
  },
  {
   "cell_type": "code",
   "execution_count": 13,
   "id": "228e2413-3b68-4de3-aacd-a0443efbfdaf",
   "metadata": {
    "tags": []
   },
   "outputs": [
    {
     "data": {
      "text/plain": [
       "[[0, 0, 0, 0, 1.575, 1, 1, 1, 1, 1],\n",
       " [1, 0, 0, 0, 0.252, 1, 1, 1, 1, 1],\n",
       " [2, 0, 0, 0, 0.508, 1, 1, 1, 1, 1],\n",
       " [1, 0, 0, 0, 0.252, 1, 1, 1, 1, 1],\n",
       " [1, 0, 0, 0, 0.508, 1, 1, 1, 1, 1]]"
      ]
     },
     "execution_count": 13,
     "metadata": {},
     "output_type": "execute_result"
    }
   ],
   "source": [
    "import json\n",
    "\n",
    "Substrates={\"Rogers RT/duroid 5880 (tm)\":0}\n",
    "Materials={\"copper\":0,\"pec\":1}\n",
    "Surfacetypes={\"Reflective\":0,\"Transmissive\":1}\n",
    "TargetGeometries={\"circ\":0,\"box\":1, \"cross\":2}\n",
    "           \n",
    "def set_conditioning(target,path,categories):\n",
    "    df = pd.read_csv(\"out.csv\")\n",
    "    arr=[]\n",
    "\n",
    "    for idx,name in enumerate(path):\n",
    "        series=name.split('_')[-1].split('.')[0]\n",
    "        batch=name.split('_')[4]\n",
    "        iteration=series.split('-')[-1]\n",
    "        row=df[(df['sim_id']==batch) & (df['iteration']==int(iteration))  ]\n",
    "\n",
    "        \n",
    "        target_val=target[idx]\n",
    "        category=categories[idx]\n",
    "        geometry=TargetGeometries[category]\n",
    "        \n",
    "        \"\"\"\"\n",
    "        surface type: reflective, transmissive\n",
    "        layers: conductor and conductor material / Substrate information\n",
    "        \"\"\"\n",
    "        surfacetype=row[\"type\"].values[0]\n",
    "        surfacetype=Surfacetypes[surfacetype]\n",
    "        \n",
    "        layers=row[\"layers\"].values[0]\n",
    "        layers= layers.replace(\"'\", '\"')\n",
    "        layer=json.loads(layers)\n",
    "        \n",
    "        materialconductor=Materials[layer['conductor']['material']]\n",
    "        materialsustrato=Substrates[layer['substrate']['material']]\n",
    "        \n",
    "        \n",
    "        if (target_val==2): #is cross. Because an added variable to the desing \n",
    "            \n",
    "            sustratoHeight= json.loads(row[\"paramValues\"].values[0])\n",
    "            sustratoHeight= sustratoHeight[-2]\n",
    "        else:\n",
    "        \n",
    "            sustratoHeight= json.loads(row[\"paramValues\"].values[0])\n",
    "            sustratoHeight= sustratoHeight[-1]\n",
    "        \n",
    "        arr.append([geometry,surfacetype,materialconductor,materialsustrato,sustratoHeight,1,1,1,1,1])\n",
    "    \n",
    "    return arr\n",
    "\n",
    "\n",
    "conditions=set_conditioning(target, path, categories)\n",
    "conditions"
   ]
  },
  {
   "cell_type": "code",
   "execution_count": 15,
   "id": "b2ae8b0c-80f1-4a17-82c6-d17bde45806d",
   "metadata": {
    "tags": []
   },
   "outputs": [
    {
     "name": "stdout",
     "output_type": "stream",
     "text": [
      "Epoch 0/14\n",
      "----------\n"
     ]
    },
    {
     "data": {
      "application/vnd.jupyter.widget-view+json": {
       "model_id": "707270ad515546059136dca38f715569",
       "version_major": 2,
       "version_minor": 0
      },
      "text/plain": [
       "  0%|          | 0/1154 [00:00<?, ?it/s]"
      ]
     },
     "metadata": {},
     "output_type": "display_data"
    },
    {
     "name": "stdout",
     "output_type": "stream",
     "text": [
      "[1,     6] loss: 8.445 running loss:  159.337\n",
      "accuracy: 0.400 \n",
      "[1,    16] loss: 7.782 running loss:  442.023\n",
      "accuracy: 0.000 \n",
      "[1,    26] loss: 3.608 running loss:  788.350\n",
      "accuracy: 0.200 \n",
      "[1,    36] loss: 5.464 running loss:  1111.948\n",
      "accuracy: 0.000 \n",
      "[1,    46] loss: 6.679 running loss:  1449.480\n",
      "accuracy: 0.000 \n",
      "[1,    56] loss: 8.671 running loss:  1747.605\n",
      "accuracy: 0.000 \n",
      "[1,    66] loss: 6.610 running loss:  2083.032\n",
      "accuracy: 0.000 \n",
      "[1,    76] loss: 5.859 running loss:  2375.005\n",
      "accuracy: 0.000 \n",
      "[1,    86] loss: 3.872 running loss:  2698.758\n",
      "accuracy: 0.000 \n",
      "[1,    96] loss: 8.246 running loss:  3019.058\n",
      "accuracy: 0.000 \n",
      "[1,   106] loss: 10.253 running loss:  3365.473\n",
      "accuracy: 0.000 \n",
      "[1,   116] loss: 9.595 running loss:  3702.089\n",
      "accuracy: 0.200 \n",
      "[1,   126] loss: 7.728 running loss:  4021.651\n",
      "accuracy: 0.000 \n",
      "[1,   136] loss: 4.322 running loss:  4351.351\n",
      "accuracy: 0.000 \n",
      "[1,   146] loss: 6.427 running loss:  4685.400\n",
      "accuracy: 0.200 \n",
      "[1,   156] loss: 8.638 running loss:  4972.408\n",
      "accuracy: 0.000 \n",
      "[1,   166] loss: 4.546 running loss:  5278.853\n",
      "accuracy: 0.000 \n",
      "[1,   176] loss: 5.569 running loss:  5570.073\n",
      "accuracy: 0.200 \n",
      "[1,   186] loss: 6.573 running loss:  5897.405\n",
      "accuracy: 0.000 \n",
      "[1,   196] loss: 6.919 running loss:  6209.142\n",
      "accuracy: 0.000 \n",
      "[1,   206] loss: 5.086 running loss:  6504.576\n",
      "accuracy: 0.000 \n",
      "[1,   216] loss: 5.590 running loss:  6844.971\n",
      "accuracy: 0.000 \n",
      "[1,   226] loss: 4.188 running loss:  7153.379\n",
      "accuracy: 0.000 \n",
      "[1,   236] loss: 8.750 running loss:  7495.712\n",
      "accuracy: 0.000 \n",
      "[1,   246] loss: 7.914 running loss:  7838.055\n",
      "accuracy: 0.000 \n",
      "[1,   256] loss: 2.930 running loss:  8159.079\n",
      "accuracy: 0.000 \n",
      "[1,   266] loss: 5.265 running loss:  8481.870\n",
      "accuracy: 0.200 \n",
      "[1,   276] loss: 6.625 running loss:  8825.646\n",
      "accuracy: 0.000 \n",
      "[1,   286] loss: 6.554 running loss:  9138.079\n",
      "accuracy: 0.000 \n",
      "[1,   296] loss: 7.579 running loss:  9436.563\n",
      "accuracy: 0.000 \n",
      "[1,   306] loss: 8.512 running loss:  9742.829\n",
      "accuracy: 0.000 \n",
      "[1,   316] loss: 5.929 running loss:  10020.999\n",
      "accuracy: 0.000 \n",
      "[1,   326] loss: 7.935 running loss:  10330.027\n",
      "accuracy: 0.000 \n",
      "[1,   336] loss: 6.362 running loss:  10612.040\n",
      "accuracy: 0.000 \n",
      "[1,   346] loss: 5.769 running loss:  10922.000\n",
      "accuracy: 0.000 \n",
      "[1,   356] loss: 4.611 running loss:  11227.309\n",
      "accuracy: 0.000 \n",
      "[1,   366] loss: 4.217 running loss:  11535.522\n",
      "accuracy: 0.000 \n",
      "[1,   376] loss: 4.973 running loss:  11925.012\n",
      "accuracy: 0.000 \n",
      "[1,   386] loss: 5.758 running loss:  12257.275\n",
      "accuracy: 0.200 \n",
      "[1,   396] loss: 3.151 running loss:  12622.696\n",
      "accuracy: 0.000 \n",
      "[1,   406] loss: 8.308 running loss:  12933.529\n",
      "accuracy: 0.000 \n",
      "[1,   416] loss: 6.064 running loss:  13242.399\n",
      "accuracy: 0.000 \n",
      "[1,   426] loss: 8.061 running loss:  13560.183\n",
      "accuracy: 0.000 \n",
      "[1,   436] loss: 4.519 running loss:  13843.875\n",
      "accuracy: 0.200 \n",
      "[1,   446] loss: 8.538 running loss:  14176.178\n",
      "accuracy: 0.000 \n",
      "[1,   456] loss: 10.890 running loss:  14525.804\n",
      "accuracy: 0.200 \n",
      "[1,   466] loss: 5.805 running loss:  14824.270\n",
      "accuracy: 0.200 \n",
      "[1,   476] loss: 5.633 running loss:  15161.332\n",
      "accuracy: 0.000 \n",
      "[1,   486] loss: 4.521 running loss:  15479.872\n",
      "accuracy: 0.000 \n",
      "[1,   496] loss: 8.620 running loss:  15802.566\n",
      "accuracy: 0.000 \n",
      "[1,   506] loss: 5.066 running loss:  16097.958\n",
      "accuracy: 0.000 \n",
      "[1,   516] loss: 7.934 running loss:  16382.392\n",
      "accuracy: 0.000 \n",
      "[1,   526] loss: 7.101 running loss:  16730.880\n",
      "accuracy: 0.200 \n",
      "[1,   536] loss: 9.077 running loss:  17096.812\n",
      "accuracy: 0.000 \n",
      "[1,   546] loss: 6.443 running loss:  17422.571\n",
      "accuracy: 0.000 \n",
      "[1,   556] loss: 7.086 running loss:  17753.696\n",
      "accuracy: 0.200 \n",
      "[1,   566] loss: 6.653 running loss:  18049.020\n",
      "accuracy: 0.200 \n",
      "[1,   576] loss: 6.772 running loss:  18391.633\n",
      "accuracy: 0.000 \n",
      "[1,   586] loss: 7.759 running loss:  18708.332\n",
      "accuracy: 0.000 \n",
      "[1,   596] loss: 8.618 running loss:  19010.931\n",
      "accuracy: 0.000 \n",
      "[1,   606] loss: 5.024 running loss:  19262.042\n",
      "accuracy: 0.000 \n",
      "[1,   616] loss: 9.029 running loss:  19566.513\n",
      "accuracy: 0.000 \n",
      "[1,   626] loss: 6.893 running loss:  19875.397\n",
      "accuracy: 0.200 \n",
      "[1,   636] loss: 3.732 running loss:  20153.616\n",
      "accuracy: 0.000 \n",
      "[1,   646] loss: 6.249 running loss:  20462.769\n",
      "accuracy: 0.000 \n",
      "[1,   656] loss: 3.753 running loss:  20765.656\n",
      "accuracy: 0.000 \n",
      "[1,   666] loss: 5.025 running loss:  21060.098\n",
      "accuracy: 0.200 \n",
      "[1,   676] loss: 5.695 running loss:  21403.862\n",
      "accuracy: 0.000 \n",
      "[1,   686] loss: 4.366 running loss:  21699.637\n",
      "accuracy: 0.000 \n",
      "[1,   696] loss: 5.670 running loss:  22024.509\n",
      "accuracy: 0.200 \n",
      "[1,   706] loss: 6.475 running loss:  22312.874\n",
      "accuracy: 0.200 \n",
      "[1,   716] loss: 7.664 running loss:  22650.626\n",
      "accuracy: 0.200 \n",
      "[1,   726] loss: 5.187 running loss:  22963.875\n",
      "accuracy: 0.000 \n",
      "[1,   736] loss: 6.938 running loss:  23296.735\n",
      "accuracy: 0.000 \n",
      "[1,   746] loss: 7.258 running loss:  23631.379\n",
      "accuracy: 0.200 \n",
      "[1,   756] loss: 6.576 running loss:  23928.308\n",
      "accuracy: 0.200 \n",
      "[1,   766] loss: 5.080 running loss:  24267.812\n",
      "accuracy: 0.000 \n",
      "[1,   776] loss: 8.209 running loss:  24559.911\n",
      "accuracy: 0.000 \n",
      "[1,   786] loss: 6.770 running loss:  24906.946\n",
      "accuracy: 0.000 \n",
      "[1,   796] loss: 6.373 running loss:  25196.880\n",
      "accuracy: 0.200 \n",
      "[1,   806] loss: 7.867 running loss:  25558.577\n",
      "accuracy: 0.000 \n",
      "[1,   816] loss: 8.128 running loss:  25892.337\n",
      "accuracy: 0.000 \n",
      "[1,   826] loss: 7.197 running loss:  26193.859\n",
      "accuracy: 0.000 \n",
      "[1,   836] loss: 4.130 running loss:  26514.160\n",
      "accuracy: 0.000 \n",
      "[1,   846] loss: 8.118 running loss:  26841.073\n",
      "accuracy: 0.000 \n",
      "[1,   856] loss: 7.661 running loss:  27151.797\n",
      "accuracy: 0.000 \n",
      "[1,   866] loss: 6.308 running loss:  27474.438\n",
      "accuracy: 0.000 \n",
      "[1,   876] loss: 10.513 running loss:  27831.848\n",
      "accuracy: 0.200 \n",
      "[1,   886] loss: 7.831 running loss:  28157.587\n",
      "accuracy: 0.000 \n",
      "[1,   896] loss: 6.737 running loss:  28498.617\n",
      "accuracy: 0.000 \n",
      "[1,   906] loss: 7.771 running loss:  28855.935\n",
      "accuracy: 0.000 \n",
      "[1,   916] loss: 5.515 running loss:  29202.286\n",
      "accuracy: 0.000 \n",
      "[1,   926] loss: 6.209 running loss:  29519.080\n",
      "accuracy: 0.000 \n",
      "[1,   936] loss: 5.858 running loss:  29812.269\n",
      "accuracy: 0.000 \n",
      "[1,   946] loss: 10.280 running loss:  30128.289\n",
      "accuracy: 0.000 \n",
      "[1,   956] loss: 5.342 running loss:  30473.629\n",
      "accuracy: 0.000 \n",
      "[1,   966] loss: 4.879 running loss:  30776.987\n",
      "accuracy: 0.000 \n",
      "[1,   976] loss: 6.454 running loss:  31099.355\n",
      "accuracy: 0.200 \n",
      "[1,   986] loss: 4.666 running loss:  31388.828\n",
      "accuracy: 0.000 \n",
      "[1,   996] loss: 4.779 running loss:  31717.216\n",
      "accuracy: 0.000 \n",
      "[1,  1006] loss: 4.154 running loss:  32014.003\n",
      "accuracy: 0.000 \n",
      "[1,  1016] loss: 7.197 running loss:  32310.281\n",
      "accuracy: 0.000 \n",
      "[1,  1026] loss: 6.926 running loss:  32642.721\n",
      "accuracy: 0.000 \n",
      "[1,  1036] loss: 4.524 running loss:  32926.886\n",
      "accuracy: 0.000 \n",
      "[1,  1046] loss: 5.313 running loss:  33200.652\n",
      "accuracy: 0.000 \n",
      "[1,  1056] loss: 8.506 running loss:  33535.907\n",
      "accuracy: 0.000 \n",
      "[1,  1066] loss: 7.013 running loss:  33879.063\n",
      "accuracy: 0.000 \n",
      "[1,  1076] loss: 5.545 running loss:  34172.596\n",
      "accuracy: 0.000 \n",
      "[1,  1086] loss: 9.161 running loss:  34460.387\n",
      "accuracy: 0.000 \n",
      "[1,  1096] loss: 7.415 running loss:  34745.396\n",
      "accuracy: 0.200 \n",
      "[1,  1106] loss: 4.091 running loss:  35070.240\n",
      "accuracy: 0.200 \n",
      "[1,  1116] loss: 7.553 running loss:  35405.366\n",
      "accuracy: 0.000 \n",
      "[1,  1126] loss: 4.846 running loss:  35722.319\n",
      "accuracy: 0.000 \n",
      "[1,  1136] loss: 7.721 running loss:  36065.871\n",
      "accuracy: 0.200 \n",
      "[1,  1146] loss: 6.850 running loss:  36360.856\n",
      "accuracy: 0.200 \n",
      "Epoch 1/14\n",
      "----------\n"
     ]
    },
    {
     "data": {
      "application/vnd.jupyter.widget-view+json": {
       "model_id": "a89e1d3821934e98a194fc42dc54bdac",
       "version_major": 2,
       "version_minor": 0
      },
      "text/plain": [
       "  0%|          | 0/1154 [00:00<?, ?it/s]"
      ]
     },
     "metadata": {},
     "output_type": "display_data"
    },
    {
     "name": "stdout",
     "output_type": "stream",
     "text": [
      "[2,     6] loss: 6.661 running loss:  164.354\n",
      "accuracy: 0.400 \n",
      "[2,    16] loss: 5.689 running loss:  470.243\n",
      "accuracy: 0.000 \n",
      "[2,    26] loss: 3.557 running loss:  764.314\n",
      "accuracy: 0.000 \n",
      "[2,    36] loss: 6.225 running loss:  1108.490\n",
      "accuracy: 0.200 \n",
      "[2,    46] loss: 7.279 running loss:  1448.469\n",
      "accuracy: 0.200 \n",
      "[2,    56] loss: 6.620 running loss:  1761.968\n",
      "accuracy: 0.200 \n",
      "[2,    66] loss: 4.765 running loss:  2072.583\n",
      "accuracy: 0.000 \n",
      "[2,    76] loss: 5.012 running loss:  2361.510\n",
      "accuracy: 0.000 \n",
      "[2,    86] loss: 7.504 running loss:  2682.101\n",
      "accuracy: 0.000 \n",
      "[2,    96] loss: 6.639 running loss:  2959.150\n",
      "accuracy: 0.200 \n",
      "[2,   106] loss: 5.432 running loss:  3276.474\n",
      "accuracy: 0.000 \n",
      "[2,   116] loss: 7.767 running loss:  3583.540\n",
      "accuracy: 0.000 \n",
      "[2,   126] loss: 6.899 running loss:  3911.269\n",
      "accuracy: 0.200 \n",
      "[2,   136] loss: 6.311 running loss:  4234.682\n",
      "accuracy: 0.200 \n",
      "[2,   146] loss: 5.136 running loss:  4538.680\n",
      "accuracy: 0.200 \n",
      "[2,   156] loss: 2.888 running loss:  4830.721\n",
      "accuracy: 0.000 \n",
      "[2,   166] loss: 9.426 running loss:  5162.231\n",
      "accuracy: 0.000 \n",
      "[2,   176] loss: 5.430 running loss:  5443.195\n",
      "accuracy: 0.000 \n",
      "[2,   186] loss: 8.246 running loss:  5774.209\n",
      "accuracy: 0.200 \n",
      "[2,   196] loss: 4.941 running loss:  6081.346\n",
      "accuracy: 0.000 \n",
      "[2,   206] loss: 2.932 running loss:  6343.676\n",
      "accuracy: 0.000 \n",
      "[2,   216] loss: 7.046 running loss:  6712.783\n",
      "accuracy: 0.000 \n",
      "[2,   226] loss: 4.112 running loss:  7030.621\n",
      "accuracy: 0.000 \n",
      "[2,   236] loss: 7.410 running loss:  7340.189\n",
      "accuracy: 0.000 \n",
      "[2,   246] loss: 6.633 running loss:  7631.464\n",
      "accuracy: 0.400 \n",
      "[2,   256] loss: 5.916 running loss:  7991.754\n",
      "accuracy: 0.000 \n",
      "[2,   266] loss: 8.661 running loss:  8324.632\n",
      "accuracy: 0.200 \n",
      "[2,   276] loss: 5.232 running loss:  8643.294\n",
      "accuracy: 0.000 \n",
      "[2,   286] loss: 3.880 running loss:  8904.217\n",
      "accuracy: 0.200 \n",
      "[2,   296] loss: 6.495 running loss:  9224.439\n",
      "accuracy: 0.000 \n",
      "[2,   306] loss: 6.030 running loss:  9541.190\n",
      "accuracy: 0.400 \n",
      "[2,   316] loss: 8.520 running loss:  9855.532\n",
      "accuracy: 0.000 \n",
      "[2,   326] loss: 7.341 running loss:  10156.959\n",
      "accuracy: 0.000 \n",
      "[2,   336] loss: 7.699 running loss:  10520.306\n",
      "accuracy: 0.000 \n",
      "[2,   346] loss: 10.060 running loss:  10868.191\n",
      "accuracy: 0.200 \n",
      "[2,   356] loss: 8.075 running loss:  11217.340\n",
      "accuracy: 0.000 \n",
      "[2,   366] loss: 6.604 running loss:  11551.581\n",
      "accuracy: 0.200 \n",
      "[2,   376] loss: 7.121 running loss:  11897.002\n",
      "accuracy: 0.000 \n",
      "[2,   386] loss: 6.519 running loss:  12217.911\n",
      "accuracy: 0.000 \n",
      "[2,   396] loss: 6.576 running loss:  12525.773\n",
      "accuracy: 0.000 \n",
      "[2,   406] loss: 6.593 running loss:  12835.585\n",
      "accuracy: 0.000 \n",
      "[2,   416] loss: 6.917 running loss:  13172.944\n",
      "accuracy: 0.000 \n",
      "[2,   426] loss: 5.239 running loss:  13463.501\n",
      "accuracy: 0.000 \n",
      "[2,   436] loss: 5.590 running loss:  13796.696\n",
      "accuracy: 0.000 \n",
      "[2,   446] loss: 5.880 running loss:  14144.676\n",
      "accuracy: 0.000 \n",
      "[2,   456] loss: 4.835 running loss:  14488.185\n",
      "accuracy: 0.000 \n",
      "[2,   466] loss: 5.297 running loss:  14867.702\n",
      "accuracy: 0.000 \n",
      "[2,   476] loss: 7.523 running loss:  15208.281\n",
      "accuracy: 0.000 \n",
      "[2,   486] loss: 7.032 running loss:  15555.703\n",
      "accuracy: 0.000 \n",
      "[2,   496] loss: 6.251 running loss:  15902.686\n",
      "accuracy: 0.200 \n",
      "[2,   506] loss: 3.573 running loss:  16183.072\n",
      "accuracy: 0.000 \n",
      "[2,   516] loss: 4.613 running loss:  16473.577\n",
      "accuracy: 0.000 \n",
      "[2,   526] loss: 5.175 running loss:  16803.771\n",
      "accuracy: 0.400 \n",
      "[2,   536] loss: 5.624 running loss:  17099.922\n",
      "accuracy: 0.200 \n",
      "[2,   546] loss: 7.868 running loss:  17417.922\n",
      "accuracy: 0.200 \n",
      "[2,   556] loss: 9.588 running loss:  17807.127\n",
      "accuracy: 0.200 \n",
      "[2,   566] loss: 5.169 running loss:  18107.056\n",
      "accuracy: 0.200 \n",
      "[2,   576] loss: 8.041 running loss:  18478.599\n",
      "accuracy: 0.000 \n",
      "[2,   586] loss: 7.021 running loss:  18789.610\n",
      "accuracy: 0.200 \n",
      "[2,   596] loss: 7.198 running loss:  19102.039\n",
      "accuracy: 0.000 \n",
      "[2,   606] loss: 3.909 running loss:  19421.682\n",
      "accuracy: 0.000 \n",
      "[2,   616] loss: 4.776 running loss:  19748.188\n",
      "accuracy: 0.000 \n",
      "[2,   626] loss: 4.568 running loss:  20055.711\n",
      "accuracy: 0.200 \n",
      "[2,   636] loss: 8.060 running loss:  20373.745\n",
      "accuracy: 0.600 \n",
      "[2,   646] loss: 9.919 running loss:  20735.343\n",
      "accuracy: 0.000 \n",
      "[2,   656] loss: 5.688 running loss:  21066.508\n",
      "accuracy: 0.200 \n",
      "[2,   666] loss: 5.425 running loss:  21335.366\n",
      "accuracy: 0.000 \n",
      "[2,   676] loss: 4.572 running loss:  21661.209\n",
      "accuracy: 0.000 \n",
      "[2,   686] loss: 5.320 running loss:  21987.354\n",
      "accuracy: 0.000 \n",
      "[2,   696] loss: 7.514 running loss:  22280.198\n",
      "accuracy: 0.200 \n",
      "[2,   706] loss: 6.297 running loss:  22547.711\n",
      "accuracy: 0.000 \n",
      "[2,   716] loss: 7.727 running loss:  22865.480\n",
      "accuracy: 0.200 \n",
      "[2,   726] loss: 6.762 running loss:  23191.743\n",
      "accuracy: 0.000 \n",
      "[2,   736] loss: 8.013 running loss:  23484.842\n",
      "accuracy: 0.000 \n",
      "[2,   746] loss: 5.645 running loss:  23827.984\n",
      "accuracy: 0.200 \n",
      "[2,   756] loss: 5.303 running loss:  24125.166\n",
      "accuracy: 0.200 \n",
      "[2,   766] loss: 4.600 running loss:  24431.952\n",
      "accuracy: 0.000 \n",
      "[2,   776] loss: 9.014 running loss:  24766.805\n",
      "accuracy: 0.200 \n",
      "[2,   786] loss: 4.918 running loss:  25083.925\n",
      "accuracy: 0.000 \n",
      "[2,   796] loss: 2.564 running loss:  25388.008\n",
      "accuracy: 0.000 \n",
      "[2,   806] loss: 4.073 running loss:  25672.779\n",
      "accuracy: 0.000 \n",
      "[2,   816] loss: 6.139 running loss:  26004.647\n",
      "accuracy: 0.000 \n",
      "[2,   826] loss: 5.990 running loss:  26381.080\n",
      "accuracy: 0.000 \n",
      "[2,   836] loss: 4.122 running loss:  26627.608\n",
      "accuracy: 0.000 \n",
      "[2,   846] loss: 9.809 running loss:  26958.410\n",
      "accuracy: 0.200 \n",
      "[2,   856] loss: 6.947 running loss:  27271.606\n",
      "accuracy: 0.000 \n",
      "[2,   866] loss: 6.523 running loss:  27608.755\n",
      "accuracy: 0.000 \n",
      "[2,   876] loss: 5.840 running loss:  27892.985\n",
      "accuracy: 0.200 \n",
      "[2,   886] loss: 6.442 running loss:  28212.355\n",
      "accuracy: 0.000 \n",
      "[2,   896] loss: 5.084 running loss:  28513.233\n",
      "accuracy: 0.200 \n",
      "[2,   906] loss: 4.866 running loss:  28833.211\n",
      "accuracy: 0.000 \n",
      "[2,   916] loss: 5.211 running loss:  29161.738\n",
      "accuracy: 0.200 \n",
      "[2,   926] loss: 8.487 running loss:  29477.756\n",
      "accuracy: 0.000 \n",
      "[2,   936] loss: 4.006 running loss:  29808.827\n",
      "accuracy: 0.200 \n",
      "[2,   946] loss: 5.723 running loss:  30140.168\n",
      "accuracy: 0.000 \n",
      "[2,   956] loss: 4.814 running loss:  30423.278\n",
      "accuracy: 0.000 \n",
      "[2,   966] loss: 4.891 running loss:  30689.396\n",
      "accuracy: 0.000 \n",
      "[2,   976] loss: 6.283 running loss:  31058.117\n",
      "accuracy: 0.000 \n",
      "[2,   986] loss: 4.955 running loss:  31393.647\n",
      "accuracy: 0.200 \n",
      "[2,   996] loss: 9.712 running loss:  31702.783\n",
      "accuracy: 0.000 \n",
      "[2,  1006] loss: 6.281 running loss:  31979.562\n",
      "accuracy: 0.000 \n",
      "[2,  1016] loss: 5.947 running loss:  32288.700\n",
      "accuracy: 0.400 \n",
      "[2,  1026] loss: 6.547 running loss:  32579.791\n",
      "accuracy: 0.000 \n",
      "[2,  1036] loss: 6.016 running loss:  32872.480\n",
      "accuracy: 0.000 \n",
      "[2,  1046] loss: 4.529 running loss:  33182.450\n",
      "accuracy: 0.000 \n",
      "[2,  1056] loss: 6.800 running loss:  33492.573\n",
      "accuracy: 0.000 \n",
      "[2,  1066] loss: 4.534 running loss:  33797.982\n",
      "accuracy: 0.000 \n",
      "[2,  1076] loss: 6.780 running loss:  34128.113\n",
      "accuracy: 0.000 \n",
      "[2,  1086] loss: 8.334 running loss:  34433.319\n",
      "accuracy: 0.000 \n",
      "[2,  1096] loss: 7.060 running loss:  34763.624\n",
      "accuracy: 0.000 \n",
      "[2,  1106] loss: 4.809 running loss:  35058.887\n",
      "accuracy: 0.000 \n",
      "[2,  1116] loss: 6.252 running loss:  35375.121\n",
      "accuracy: 0.200 \n",
      "[2,  1126] loss: 6.685 running loss:  35747.659\n",
      "accuracy: 0.000 \n",
      "[2,  1136] loss: 5.340 running loss:  36079.164\n",
      "accuracy: 0.200 \n",
      "[2,  1146] loss: 3.528 running loss:  36385.489\n",
      "accuracy: 0.000 \n",
      "Epoch 2/14\n",
      "----------\n"
     ]
    },
    {
     "data": {
      "application/vnd.jupyter.widget-view+json": {
       "model_id": "17fb0d48b5234dfba154d06ea92c3574",
       "version_major": 2,
       "version_minor": 0
      },
      "text/plain": [
       "  0%|          | 0/1154 [00:00<?, ?it/s]"
      ]
     },
     "metadata": {},
     "output_type": "display_data"
    },
    {
     "name": "stdout",
     "output_type": "stream",
     "text": [
      "[3,     6] loss: 5.658 running loss:  164.416\n",
      "accuracy: 0.200 \n",
      "[3,    16] loss: 5.730 running loss:  492.735\n",
      "accuracy: 0.200 \n",
      "[3,    26] loss: 5.593 running loss:  810.959\n",
      "accuracy: 0.000 \n",
      "[3,    36] loss: 4.982 running loss:  1148.223\n",
      "accuracy: 0.200 \n",
      "[3,    46] loss: 7.118 running loss:  1459.528\n",
      "accuracy: 0.400 \n",
      "[3,    56] loss: 11.129 running loss:  1775.662\n",
      "accuracy: 0.000 \n",
      "[3,    66] loss: 8.729 running loss:  2105.403\n",
      "accuracy: 0.200 \n",
      "[3,    76] loss: 6.316 running loss:  2399.034\n",
      "accuracy: 0.000 \n",
      "[3,    86] loss: 7.259 running loss:  2773.078\n",
      "accuracy: 0.000 \n",
      "[3,    96] loss: 4.639 running loss:  3066.340\n",
      "accuracy: 0.000 \n",
      "[3,   106] loss: 7.783 running loss:  3371.454\n",
      "accuracy: 0.200 \n",
      "[3,   116] loss: 6.469 running loss:  3673.248\n",
      "accuracy: 0.200 \n",
      "[3,   126] loss: 6.668 running loss:  3993.923\n",
      "accuracy: 0.000 \n",
      "[3,   136] loss: 6.362 running loss:  4284.789\n",
      "accuracy: 0.000 \n",
      "[3,   146] loss: 3.911 running loss:  4559.369\n",
      "accuracy: 0.000 \n",
      "[3,   156] loss: 7.716 running loss:  4896.619\n",
      "accuracy: 0.200 \n",
      "[3,   166] loss: 2.827 running loss:  5205.226\n",
      "accuracy: 0.000 \n",
      "[3,   176] loss: 5.674 running loss:  5496.906\n",
      "accuracy: 0.000 \n",
      "[3,   186] loss: 7.040 running loss:  5829.219\n",
      "accuracy: 0.400 \n",
      "[3,   196] loss: 6.622 running loss:  6166.495\n",
      "accuracy: 0.000 \n",
      "[3,   206] loss: 7.584 running loss:  6500.316\n",
      "accuracy: 0.200 \n",
      "[3,   216] loss: 9.268 running loss:  6803.485\n",
      "accuracy: 0.000 \n",
      "[3,   226] loss: 4.900 running loss:  7090.261\n",
      "accuracy: 0.200 \n",
      "[3,   236] loss: 7.294 running loss:  7405.527\n",
      "accuracy: 0.200 \n",
      "[3,   246] loss: 8.747 running loss:  7721.536\n",
      "accuracy: 0.400 \n",
      "[3,   256] loss: 8.117 running loss:  8082.512\n",
      "accuracy: 0.000 \n",
      "[3,   266] loss: 5.328 running loss:  8403.670\n",
      "accuracy: 0.200 \n",
      "[3,   276] loss: 5.230 running loss:  8689.668\n",
      "accuracy: 0.000 \n",
      "[3,   286] loss: 8.879 running loss:  9013.330\n",
      "accuracy: 0.000 \n",
      "[3,   296] loss: 6.499 running loss:  9366.292\n",
      "accuracy: 0.000 \n",
      "[3,   306] loss: 7.825 running loss:  9705.832\n",
      "accuracy: 0.000 \n",
      "[3,   316] loss: 6.862 running loss:  10053.163\n",
      "accuracy: 0.200 \n",
      "[3,   326] loss: 10.034 running loss:  10350.994\n",
      "accuracy: 0.000 \n",
      "[3,   336] loss: 4.520 running loss:  10649.555\n",
      "accuracy: 0.000 \n",
      "[3,   346] loss: 5.943 running loss:  10970.882\n",
      "accuracy: 0.000 \n",
      "[3,   356] loss: 8.828 running loss:  11288.063\n",
      "accuracy: 0.200 \n",
      "[3,   366] loss: 3.330 running loss:  11573.681\n",
      "accuracy: 0.200 \n",
      "[3,   376] loss: 5.111 running loss:  11858.533\n",
      "accuracy: 0.200 \n",
      "[3,   386] loss: 3.814 running loss:  12148.384\n",
      "accuracy: 0.000 \n",
      "[3,   396] loss: 3.595 running loss:  12476.103\n",
      "accuracy: 0.000 \n",
      "[3,   406] loss: 8.860 running loss:  12773.393\n",
      "accuracy: 0.000 \n",
      "[3,   416] loss: 7.360 running loss:  13073.322\n",
      "accuracy: 0.000 \n",
      "[3,   426] loss: 7.570 running loss:  13386.211\n",
      "accuracy: 0.000 \n",
      "[3,   436] loss: 4.777 running loss:  13686.865\n",
      "accuracy: 0.000 \n",
      "[3,   446] loss: 7.803 running loss:  13996.151\n",
      "accuracy: 0.000 \n"
     ]
    },
    {
     "name": "stderr",
     "output_type": "stream",
     "text": [
      "\n",
      "KeyboardInterrupt\n",
      "\n"
     ]
    }
   ],
   "source": [
    "#### #File reading conf\n",
    "a = []\n",
    "idx=0\n",
    "iters=0\n",
    "loss_values, valid_loss_list = [], []\n",
    "acc=[]\n",
    "\n",
    "for epoch in range(parser.epochs):\n",
    "    x=0\n",
    "    running_loss = 0.0\n",
    "    i=0\n",
    "    print('Epoch {}/{}'.format(epoch, parser.epochs - 1))\n",
    "    print('-' * 10)\n",
    "    \n",
    "    \n",
    "    dataloader = utils.get_data_with_labels(512, 512,0.9, boxImagesPath,parser.batch_size,drop_last=True)\n",
    "\n",
    "\n",
    "    for data in tqdm(dataloader):\n",
    "        \n",
    "        inputs, classes, names, classes_types = data\n",
    "        \n",
    "        opt.zero_grad()\n",
    "        #Loading data\n",
    "        a = []\n",
    "        idx=0\n",
    "        \n",
    "        \"\"\"lookup for data corresponding to every image in training batch\"\"\"\n",
    "        for name in names:\n",
    "            series=name.split('_')[-1].split('.')[0]\n",
    "            batch=name.split('_')[4]\n",
    "            for name in glob.glob(DataPath+batch+'\\\\files\\\\'+'/'+parser.metricType+'*'+series+'.csv'): \n",
    "                \n",
    "                #loading the absorption data\n",
    "                train = pd.read_csv(name)\n",
    "                values=np.array(train.values.T)\n",
    "                a.append(values[1])\n",
    "                \n",
    "                \n",
    "        a=np.array(a)     \n",
    "        \n",
    "        conditioningArray=torch.FloatTensor(set_conditioning(target, path, categories))\n",
    "\n",
    "        if conditioningArray.shape[1]==parser.condition_len:\n",
    "            \n",
    "            outmap_min, _ = torch.min(conditioningArray, dim=1, keepdim=True)\n",
    "            outmap_max, _ = torch.max(conditioningArray, dim=1, keepdim=True)\n",
    "            conditioningTensor = (conditioningArray - outmap_min) / (outmap_max - outmap_min)\n",
    "\n",
    "            y_predicted=fwd_test(input_=inputs, conditioning=conditioningTensor, b_size=inputs.shape[0])\n",
    "            y_predicted=torch.nn.functional.normalize(y_predicted, p=2.0, dim = 1)\n",
    "\n",
    "            y_truth = torch.tensor(a)\n",
    "\n",
    "            #error\n",
    "\n",
    "            errD_real = criterion(y_predicted.float(), y_truth.float())\n",
    "            errD_real.backward()\n",
    "            loss=errD_real.item()\n",
    "            opt.step()\n",
    "            scale = torch.tensor([10.0])\n",
    "\n",
    "            running_loss +=loss*inputs.size(0)\n",
    "            acc_val= (y_predicted.argmax(dim=-1) == y_truth.argmax(dim=-1)).float().mean()\n",
    "            acc.append((y_predicted.argmax(dim=-1) == y_truth.argmax(dim=-1)).float().mean())\n",
    "            \n",
    "\n",
    "            x += 1\n",
    "            i = i+1\n",
    "\n",
    "\n",
    "            if i % 10 == 5:    # print every 2000 mini-batches\n",
    "                print(f'[{epoch + 1}, {i + 1:5d}] loss: {loss / 10:.3f} running loss:  {running_loss / 10:.3f}')\n",
    "                print(f'accuracy: {acc_val :.3f} ')\n",
    "\n",
    "            iters += 1\n",
    "        else:\n",
    "        \n",
    "            break\n",
    "    \n",
    "    loss_values.append(running_loss)\n",
    "\n",
    "\n"
   ]
  },
  {
   "cell_type": "code",
   "execution_count": 16,
   "id": "363ae30c-4682-4178-b292-fe93a49dcfdd",
   "metadata": {
    "tags": []
   },
   "outputs": [],
   "source": [
    "PATH = './trainedModelTM_abs_Multitarget_30Jan.pth'\n",
    "torch.save(fwd_test.state_dict(), PATH)"
   ]
  },
  {
   "cell_type": "code",
   "execution_count": 17,
   "id": "ecde8d83-4f47-4090-a986-f0b29d6401d1",
   "metadata": {},
   "outputs": [
    {
     "data": {
      "image/png": "[encoded data removed]",
      "text/plain": [
       "<Figure size 640x480 with 1 Axes>"
      ]
     },
     "metadata": {},
     "output_type": "display_data"
    }
   ],
   "source": [
    "plt.plot(loss_values)\n",
    "np.savetxt('loss_ABS_TM_30Jan.out', loss_values, delimiter=',')"
   ]
  },
  {
   "cell_type": "code",
   "execution_count": 18,
   "id": "a0ae19ef-a951-43cd-b3bc-101875142fb0",
   "metadata": {},
   "outputs": [
    {
     "data": {
      "image/png": "[encoded data removed]",
      "text/plain": [
       "<Figure size 640x480 with 1 Axes>"
      ]
     },
     "metadata": {},
     "output_type": "display_data"
    }
   ],
   "source": [
    "plt.plot(acc)\n",
    "np.savetxt('acc_TM_30Jan.out', acc, delimiter=',')"
   ]
  },
  {
   "cell_type": "code",
   "execution_count": null,
   "id": "7c0c03be-cdb9-4550-ab06-47e62d770cde",
   "metadata": {},
   "outputs": [],
   "source": []
  }
 ],
 "metadata": {
  "kernelspec": {
   "display_name": "Python 3 (ipykernel)",
   "language": "python",
   "name": "python3"
  },
  "language_info": {
   "codemirror_mode": {
    "name": "ipython",
    "version": 3
   },
   "file_extension": ".py",
   "mimetype": "text/x-python",
   "name": "python",
   "nbconvert_exporter": "python",
   "pygments_lexer": "ipython3",
   "version": "3.11.4"
  }
 },
 "nbformat": 4,
 "nbformat_minor": 5
}
